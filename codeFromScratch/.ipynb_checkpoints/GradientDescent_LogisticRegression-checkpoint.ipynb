{
 "cells": [
  {
   "cell_type": "code",
   "execution_count": 1,
   "id": "fb7f9987-5d72-46fd-af2d-6d88f4285a85",
   "metadata": {},
   "outputs": [],
   "source": [
    "import numpy as np \n",
    "import pandas as pd \n",
    "import matplotlib.pyplot as plt \n"
   ]
  },
  {
   "cell_type": "code",
   "execution_count": 2,
   "id": "9ff1e46e-a3ff-49b5-83ee-c0b0848674ee",
   "metadata": {},
   "outputs": [],
   "source": [
    "X_train = np.array([[0.5, 1.5], [1,1], [1.5, 0.5], [3, 0.5], [2, 2], [1, 2.5]])\n",
    "y_train = np.array([0, 0, 0, 1, 1, 1])\n",
    "# X_train.shape"
   ]
  },
  {
   "cell_type": "code",
   "execution_count": 3,
   "id": "ad387f08-830b-4709-b158-52e4dc62d62b",
   "metadata": {},
   "outputs": [],
   "source": [
    "def sigmoid(z):\n",
    "    return 1/(1+np.exp(-z))\n",
    "    "
   ]
  },
  {
   "cell_type": "code",
   "execution_count": 4,
   "id": "69d7ac6a-3e10-4a6a-8258-641f11f5bdfb",
   "metadata": {},
   "outputs": [],
   "source": [
    "def compute_gradient_logistic(X, y, w, b):\n",
    "    m, n = X.shape\n",
    "    dj_dw = np.zeros(n)\n",
    "    dj_db = 0.0\n",
    "    for i in range(m):\n",
    "        f_wb_i = 1/(1+np.exp(-(np.dot(X[i], w) + b)))\n",
    "        err_i = f_wb_i - y[i]\n",
    "        for j in range(n):\n",
    "            dj_dw[j] += err_i * X[i, j]\n",
    "        dj_db += err_i\n",
    "    dj_dw = dj_dw / m\n",
    "    dj_db = dj_db / m\n",
    "    return dj_db, dj_dw\n"
   ]
  },
  {
   "cell_type": "code",
   "execution_count": 5,
   "id": "43705340-d300-4208-a75d-46b57bea44dd",
   "metadata": {},
   "outputs": [],
   "source": [
    "def compute_cost_logistic(X, y, w, b):\n",
    "    m = X.shape[0]\n",
    "    cost = 0.0\n",
    "    for i in range(m):\n",
    "        z_i = np.dot(X[i], w) + b\n",
    "        f_wb_i = 1/(1+np.exp(-z_i))\n",
    "        cost += -y[i]*np.log(f_wb_i) - (1-y[i])*np.log(1-f_wb_i)\n",
    "    cost = cost / m\n",
    "    return cost"
   ]
  },
  {
   "cell_type": "code",
   "execution_count": 6,
   "id": "70224dc0-819d-4f63-b9b0-f0c310b3e4b2",
   "metadata": {},
   "outputs": [],
   "source": [
    "X_tmp = np.array([[0.5, 1.5], [1,1], [1.5, 0.5], [3, 0.5], [2, 2], [1, 2.5]])\n",
    "y_tmp = np.array([0, 0, 0, 1, 1, 1])\n",
    "w_tmp = np.array([2.,3.])\n",
    "b_tmp = 1."
   ]
  },
  {
   "cell_type": "code",
   "execution_count": 7,
   "id": "43e26b5b-6daa-4f67-ac7d-3b3aea31cedb",
   "metadata": {},
   "outputs": [
    {
     "data": {
      "text/plain": [
       "(0.49861806546328574, array([0.49833339, 0.49883943]))"
      ]
     },
     "execution_count": 7,
     "metadata": {},
     "output_type": "execute_result"
    }
   ],
   "source": [
    "compute_gradient_logistic(X_tmp,y_tmp,w_tmp,b_tmp)"
   ]
  },
  {
   "cell_type": "code",
   "execution_count": 8,
   "id": "36b026ea-12ed-44b3-97e3-5d5a216fb21f",
   "metadata": {},
   "outputs": [],
   "source": [
    "import copy,math"
   ]
  },
  {
   "cell_type": "code",
   "execution_count": 9,
   "id": "6048635f-923a-40d3-b5ad-1002c396a9c2",
   "metadata": {},
   "outputs": [],
   "source": [
    "def gradient_descent(X, y, w_in, b_in, alpha, num_iters):\n",
    "    j_history = []\n",
    "    w_history = []\n",
    "    w = copy.deepcopy(w_in)\n",
    "    b = b_in\n",
    "    for i in range(num_iters):\n",
    "        dj_db, dj_dw = compute_gradient_logistic(X, y, w, b)\n",
    "        w = w - alpha * dj_dw\n",
    "        b = b - alpha * dj_db\n",
    "        \n",
    "        # Record the cost and weights\n",
    "        if i < 100000:  # Prevent excessive memory usage\n",
    "            cost = compute_cost_logistic(X, y, w, b)\n",
    "            j_history.append(cost)\n",
    "        w_history.append(np.concatenate(([b], w)))  # [b, w1, w2, ...]\n",
    "        \n",
    "        if i % math.ceil(num_iters/10) == 0:\n",
    "            print(f\"Iteration {i:4d}: Cost {j_history[-1]}\")\n",
    "    \n",
    "    return w, b, j_history, w_history"
   ]
  },
  {
   "cell_type": "code",
   "execution_count": 10,
   "id": "c04dc3d6-b27d-48e2-af24-d3964a7920ed",
   "metadata": {},
   "outputs": [
    {
     "name": "stdout",
     "output_type": "stream",
     "text": [
      "Iteration    0: Cost 0.684610468560574\n",
      "Iteration   10: Cost 0.6485727103227239\n",
      "Iteration   20: Cost 0.6318411432998224\n",
      "Iteration   30: Cost 0.6170382193635989\n",
      "Iteration   40: Cost 0.6029747998642602\n",
      "Iteration   50: Cost 0.589493208966662\n",
      "Iteration   60: Cost 0.5765269908844487\n",
      "Iteration   70: Cost 0.5640303688325167\n",
      "Iteration   80: Cost 0.5519686299902001\n",
      "Iteration   90: Cost 0.5403143405845308\n"
     ]
    }
   ],
   "source": [
    "initial_w = np.array([0.0, 0.0])\n",
    "initial_b = 0.0\n",
    "alpha = 0.1\n",
    "iterations = 100\n",
    "# Run gradient descent\n",
    "w_final, b_final, j_history, w_history = gradient_descent(X_tmp, y_tmp, initial_w, initial_b, alpha, iterations)"
   ]
  },
  {
   "cell_type": "code",
   "execution_count": 11,
   "id": "a4adf21f-d598-4ae5-8768-dd09e822b0c5",
   "metadata": {},
   "outputs": [
    {
     "data": {
      "text/plain": [
       "[array([0.        , 0.025     , 0.01666667]),\n",
       " array([-0.00149247,  0.04744911,  0.03126819]),\n",
       " array([-0.00427298,  0.06768507,  0.04409012]),\n",
       " array([-0.00816352,  0.08600273,  0.05538093]),\n",
       " array([-0.01301004,  0.10265758,  0.06535548]),\n",
       " array([-0.01867973,  0.11787016,  0.07419883]),\n",
       " array([-0.02505827,  0.13183032,  0.08207011]),\n",
       " array([-0.03204735,  0.1447014 ,  0.08910599]),\n",
       " array([-0.03956238,  0.15662392,  0.0954239 ]),\n",
       " array([-0.04753059,  0.16771882,  0.10112478]),\n",
       " array([-0.05588925,  0.17809031,  0.10629544]),\n",
       " array([-0.0645843 ,  0.18782828,  0.11101065]),\n",
       " array([-0.07356903,  0.1970104 ,  0.11533485]),\n",
       " array([-0.08280308,  0.20570382,  0.11932362]),\n",
       " array([-0.09225153,  0.21396672,  0.12302499]),\n",
       " array([-0.10188412,  0.22184956,  0.12648045]),\n",
       " array([-0.11167459,  0.22939617,  0.1297259 ]),\n",
       " array([-0.12160019,  0.23664466,  0.1327924 ]),\n",
       " array([-0.13164112,  0.24362822,  0.13570685]),\n",
       " array([-0.14178019,  0.25037576,  0.13849257]),\n",
       " array([-0.15200242,  0.25691255,  0.14116975]),\n",
       " array([-0.1622948 ,  0.26326063,  0.14375588]),\n",
       " array([-0.17264599,  0.2694393 ,  0.14626613]),\n",
       " array([-0.1830461 ,  0.27546545,  0.14871363]),\n",
       " array([-0.19348652,  0.28135391,  0.15110976]),\n",
       " array([-0.20395975,  0.28711766,  0.15346436]),\n",
       " array([-0.21445922,  0.29276813,  0.15578594]),\n",
       " array([-0.22497924,  0.29831536,  0.15808187]),\n",
       " array([-0.23551483,  0.30376818,  0.16035851]),\n",
       " array([-0.24606163,  0.30913441,  0.16262131]),\n",
       " array([-0.25661585,  0.31442092,  0.16487499]),\n",
       " array([-0.2671742 ,  0.3196338 ,  0.16712361]),\n",
       " array([-0.27773379,  0.32477843,  0.16937062]),\n",
       " array([-0.2882921 ,  0.32985959,  0.17161899]),\n",
       " array([-0.29884695,  0.33488152,  0.17387124]),\n",
       " array([-0.30939642,  0.339848  ,  0.17612951]),\n",
       " array([-0.31993886,  0.34476237,  0.17839561]),\n",
       " array([-0.33047281,  0.34962766,  0.18067105]),\n",
       " array([-0.34099702,  0.35444653,  0.1829571 ]),\n",
       " array([-0.35151039,  0.3592214 ,  0.18525479]),\n",
       " array([-0.36201198,  0.36395444,  0.187565  ]),\n",
       " array([-0.37250095,  0.36864758,  0.18988839]),\n",
       " array([-0.3829766 ,  0.3733026 ,  0.19222552]),\n",
       " array([-0.39343831,  0.37792108,  0.1945768 ]),\n",
       " array([-0.40388555,  0.38250447,  0.19694255]),\n",
       " array([-0.41431785,  0.38705409,  0.19932299]),\n",
       " array([-0.42473482,  0.39157115,  0.20171824]),\n",
       " array([-0.43513612,  0.39605675,  0.20412838]),\n",
       " array([-0.44552146,  0.40051189,  0.20655342]),\n",
       " array([-0.4558906 ,  0.40493752,  0.20899331]),\n",
       " array([-0.46624333,  0.4093345 ,  0.21144796]),\n",
       " array([-0.47657947,  0.41370363,  0.21391725]),\n",
       " array([-0.48689888,  0.41804565,  0.21640103]),\n",
       " array([-0.49720143,  0.42236127,  0.21889911]),\n",
       " array([-0.50748702,  0.42665113,  0.22141129]),\n",
       " array([-0.51775558,  0.43091585,  0.22393733]),\n",
       " array([-0.52800704,  0.435156  ,  0.22647701]),\n",
       " array([-0.53824134,  0.43937212,  0.22903007]),\n",
       " array([-0.54845846,  0.44356474,  0.23159624]),\n",
       " array([-0.55865837,  0.44773435,  0.23417526]),\n",
       " array([-0.56884106,  0.4518814 ,  0.23676685]),\n",
       " array([-0.5790065 ,  0.45600635,  0.23937073]),\n",
       " array([-0.58915472,  0.46010962,  0.24198662]),\n",
       " array([-0.5992857 ,  0.46419162,  0.24461422]),\n",
       " array([-0.60939947,  0.46825274,  0.24725325]),\n",
       " array([-0.61949604,  0.47229336,  0.24990343]),\n",
       " array([-0.62957543,  0.47631384,  0.25256446]),\n",
       " array([-0.63963767,  0.48031453,  0.25523606]),\n",
       " array([-0.64968277,  0.48429577,  0.25791796]),\n",
       " array([-0.65971078,  0.4882579 ,  0.26060986]),\n",
       " array([-0.66972173,  0.49220121,  0.26331148]),\n",
       " array([-0.67971564,  0.49612604,  0.26602257]),\n",
       " array([-0.68969256,  0.50003267,  0.26874283]),\n",
       " array([-0.69965252,  0.5039214 ,  0.27147201]),\n",
       " array([-0.70959555,  0.5077925 ,  0.27420984]),\n",
       " array([-0.71952171,  0.51164626,  0.27695606]),\n",
       " array([-0.72943103,  0.51548295,  0.27971042]),\n",
       " array([-0.73932354,  0.51930282,  0.28247266]),\n",
       " array([-0.7491993 ,  0.52310614,  0.28524253]),\n",
       " array([-0.75905834,  0.52689314,  0.2880198 ]),\n",
       " array([-0.76890071,  0.53066409,  0.29080422]),\n",
       " array([-0.77872644,  0.5344192 ,  0.29359557]),\n",
       " array([-0.78853558,  0.53815873,  0.2963936 ]),\n",
       " array([-0.79832818,  0.54188288,  0.29919809]),\n",
       " array([-0.80810426,  0.5455919 ,  0.30200883]),\n",
       " array([-0.81786389,  0.54928599,  0.30482559]),\n",
       " array([-0.8276071 ,  0.55296536,  0.30764817]),\n",
       " array([-0.83733393,  0.55663024,  0.31047635]),\n",
       " array([-0.84704443,  0.56028081,  0.31330993]),\n",
       " array([-0.85673863,  0.56391729,  0.31614871]),\n",
       " array([-0.86641659,  0.56753986,  0.3189925 ]),\n",
       " array([-0.87607833,  0.57114872,  0.3218411 ]),\n",
       " array([-0.88572392,  0.57474406,  0.32469432]),\n",
       " array([-0.89535337,  0.57832606,  0.32755198]),\n",
       " array([-0.90496675,  0.5818949 ,  0.3304139 ]),\n",
       " array([-0.91456409,  0.58545076,  0.3332799 ]),\n",
       " array([-0.92414543,  0.58899381,  0.33614981]),\n",
       " array([-0.93371081,  0.59252423,  0.33902346]),\n",
       " array([-0.94326027,  0.59604218,  0.34190068]),\n",
       " array([-0.95279386,  0.59954782,  0.34478132])]"
      ]
     },
     "execution_count": 11,
     "metadata": {},
     "output_type": "execute_result"
    }
   ],
   "source": [
    "w_history"
   ]
  },
  {
   "cell_type": "code",
   "execution_count": 12,
   "id": "bcad43f1-c866-44ec-8400-68f17c462f27",
   "metadata": {},
   "outputs": [
    {
     "data": {
      "image/png": "[encoded data removed]",
      "text/plain": [
       "<Figure size 800x600 with 1 Axes>"
      ]
     },
     "metadata": {},
     "output_type": "display_data"
    }
   ],
   "source": [
    "x_vals = X_tmp[:, 0]\n",
    "y_vals = X_tmp[:, 1]\n",
    "\n",
    "# Plot the points\n",
    "plt.figure(figsize=(8, 6))\n",
    "plt.scatter(x_vals, y_vals, c='blue', marker='o')\n",
    "plt.xlabel('X1')\n",
    "plt.ylabel('X2')\n",
    "plt.title('Scatter Plot of X_tmp')\n",
    "# plt.grid(True)\n",
    "plt.show()"
   ]
  },
  {
   "cell_type": "code",
   "execution_count": 13,
   "id": "17020f9b-c1fb-4fa1-a701-e111d24a1c5c",
   "metadata": {},
   "outputs": [],
   "source": [
    "from matplotlib.animation import FuncAnimation"
   ]
  },
  {
   "cell_type": "code",
   "execution_count": 14,
   "id": "52759d1a-7199-4e70-8057-79cc0b6558f9",
   "metadata": {},
   "outputs": [
    {
     "data": {
      "image/png": "[encoded data removed]",
      "text/plain": [
       "<Figure size 640x480 with 1 Axes>"
      ]
     },
     "metadata": {},
     "output_type": "display_data"
    }
   ],
   "source": [
    "fig, ax = plt.subplots()\n",
    "ax.set_xlim(0, 4)\n",
    "ax.set_ylim(0, 3)\n",
    "sc = ax.scatter(X_tmp[:, 0], X_tmp[:, 1], c=y_tmp, cmap='bwr', s=100)\n",
    "line, = ax.plot([], [], 'k--')\n",
    "def animate(i):\n",
    "    w = w_history[i]  \n",
    "    x_vals = np.array([0, 4])\n",
    "   \n",
    "    if abs(w[2]) > 1e-8:  \n",
    "        y_vals = -(w[0] + w[1] * x_vals) / w[2]\n",
    "    else:\n",
    "    \n",
    "        y_vals = np.array([0, 0])\n",
    "    line.set_data(x_vals, y_vals)\n",
    "    return line,\n",
    "ani = FuncAnimation(fig, animate, frames=len(w_history), interval=200, repeat=False)\n",
    "plt.title('Logistic Regression: Gradient Descent Decision Boundary')\n",
    "plt.xlabel('x1')\n",
    "plt.ylabel('x2')\n",
    "plt.show()"
   ]
  },
  {
   "cell_type": "code",
   "execution_count": null,
   "id": "420c1ddb-caae-4b43-903b-ebbfdea1d7b4",
   "metadata": {},
   "outputs": [],
   "source": []
  }
 ],
 "metadata": {
  "kernelspec": {
   "display_name": "Python 3 (ipykernel)",
   "language": "python",
   "name": "python3"
  },
  "language_info": {
   "codemirror_mode": {
    "name": "ipython",
    "version": 3
   },
   "file_extension": ".py",
   "mimetype": "text/x-python",
   "name": "python",
   "nbconvert_exporter": "python",
   "pygments_lexer": "ipython3",
   "version": "3.10.2"
  }
 },
 "nbformat": 4,
 "nbformat_minor": 5
}
