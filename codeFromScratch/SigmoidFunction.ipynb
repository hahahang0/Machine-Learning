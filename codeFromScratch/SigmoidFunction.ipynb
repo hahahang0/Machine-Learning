{
 "cells": [
  {
   "cell_type": "code",
   "execution_count": 3,
   "id": "60aa5707-791f-482a-a05f-acdcf49d9af8",
   "metadata": {},
   "outputs": [],
   "source": [
    "import numpy as np \n",
    "import pandas as pd \n",
    "import matplotlib.pyplot as plt\n",
    "import seaborn as sns "
   ]
  },
  {
   "cell_type": "code",
   "execution_count": 10,
   "id": "edf80517-b58b-4c03-8228-17079c59eede",
   "metadata": {},
   "outputs": [
    {
     "name": "stdout",
     "output_type": "stream",
     "text": [
      "[-10  -9  -8  -7  -6  -5  -4  -3  -2  -1   0   1   2   3   4   5   6   7\n",
      "   8   9]\n"
     ]
    }
   ],
   "source": [
    "t_ = np.arange(-10,10)\n",
    "print(t_)"
   ]
  },
  {
   "cell_type": "code",
   "execution_count": 11,
   "id": "11faa997-d357-48d2-96db-78440f6ee24e",
   "metadata": {},
   "outputs": [],
   "source": [
    "def sigmoidFunction(z):\n",
    "    g = 1/(1+np.exp(-z))\n",
    "    return g "
   ]
  },
  {
   "cell_type": "code",
   "execution_count": 12,
   "id": "390f8697-6a09-4b24-b1a7-44ffe5889283",
   "metadata": {},
   "outputs": [],
   "source": [
    "result = sigmoidFunction(t_)"
   ]
  },
  {
   "cell_type": "code",
   "execution_count": 13,
   "id": "d73a553d-ccde-4725-b221-065cfeb32dc7",
   "metadata": {},
   "outputs": [
    {
     "data": {
      "text/plain": [
       "array([4.53978687e-05, 1.23394576e-04, 3.35350130e-04, 9.11051194e-04,\n",
       "       2.47262316e-03, 6.69285092e-03, 1.79862100e-02, 4.74258732e-02,\n",
       "       1.19202922e-01, 2.68941421e-01, 5.00000000e-01, 7.31058579e-01,\n",
       "       8.80797078e-01, 9.52574127e-01, 9.82013790e-01, 9.93307149e-01,\n",
       "       9.97527377e-01, 9.99088949e-01, 9.99664650e-01, 9.99876605e-01])"
      ]
     },
     "execution_count": 13,
     "metadata": {},
     "output_type": "execute_result"
    }
   ],
   "source": [
    "result"
   ]
  },
  {
   "cell_type": "code",
   "execution_count": null,
   "id": "be045cd7-baa0-4061-83b6-a47273a75602",
   "metadata": {},
   "outputs": [],
   "source": [
    "fig,ax = plt.subplots(1,1,figsize=(10,6))\n",
    "ax.plot(t_,result,c='r')\n",
    "ax.set_title(\"Sigmoid Function\")\n",
    "ax.set_ylabel(\"Sigmoid(Z)\")\n",
    "ax.set_la"
   ]
  }
 ],
 "metadata": {
  "kernelspec": {
   "display_name": "Python 3 (ipykernel)",
   "language": "python",
   "name": "python3"
  },
  "language_info": {
   "codemirror_mode": {
    "name": "ipython",
    "version": 3
   },
   "file_extension": ".py",
   "mimetype": "text/x-python",
   "name": "python",
   "nbconvert_exporter": "python",
   "pygments_lexer": "ipython3",
   "version": "3.10.2"
  }
 },
 "nbformat": 4,
 "nbformat_minor": 5
}
