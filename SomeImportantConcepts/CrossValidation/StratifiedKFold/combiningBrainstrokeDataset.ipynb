{
 "cells": [
  {
   "cell_type": "code",
   "execution_count": 1,
   "id": "09f4ee89",
   "metadata": {},
   "outputs": [],
   "source": [
    "import pandas as pd "
   ]
  },
  {
   "cell_type": "code",
   "execution_count": 3,
   "id": "6095f47b",
   "metadata": {},
   "outputs": [],
   "source": [
    "first_df = pd.read_csv(\"F:/dataset_for_ML/supervised/BrainStrokeDataset/full_data.csv\")\n",
    "second_df = pd.read_csv(\"F:/dataset_for_ML/supervised/BrainStrokeDataset/half_data.csv\")"
   ]
  },
  {
   "cell_type": "code",
   "execution_count": 6,
   "id": "3df23bc0",
   "metadata": {},
   "outputs": [],
   "source": [
    "new_df = pd.concat([first_df,second_df],axis=0)"
   ]
  },
  {
   "cell_type": "code",
   "execution_count": 9,
   "id": "d9c5ec8b",
   "metadata": {},
   "outputs": [],
   "source": [
    "new_df.to_csv(\"F:/dataset_for_ML/supervised/BrainStrokeDataset/stokePredictionDataset.csv\",index=False)"
   ]
  },
  {
   "cell_type": "code",
   "execution_count": null,
   "id": "cffce28f",
   "metadata": {},
   "outputs": [],
   "source": []
  }
 ],
 "metadata": {
  "kernelspec": {
   "display_name": "Python 3",
   "language": "python",
   "name": "python3"
  },
  "language_info": {
   "codemirror_mode": {
    "name": "ipython",
    "version": 3
   },
   "file_extension": ".py",
   "mimetype": "text/x-python",
   "name": "python",
   "nbconvert_exporter": "python",
   "pygments_lexer": "ipython3",
   "version": "3.10.16"
  }
 },
 "nbformat": 4,
 "nbformat_minor": 5
}
